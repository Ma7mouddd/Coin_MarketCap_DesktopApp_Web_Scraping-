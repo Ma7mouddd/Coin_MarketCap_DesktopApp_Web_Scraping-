{
 "cells": [
  {
   "cell_type": "code",
   "execution_count": 9,
   "metadata": {},
   "outputs": [],
   "source": [
    "\n",
    "import requests \n",
    "from bs4 import BeautifulSoup\n",
    "import csv\n",
    "from selenium import webdriver\n",
    "from selenium.webdriver.common.by import By\n",
    "import time\n",
    "import pandas as pd\n",
    "import numpy as np\n",
    "from datetime import datetime\n",
    "from selenium.webdriver.support.ui import WebDriverWait\n",
    "from selenium.webdriver.chrome.options import Options\n",
    "from selenium.webdriver.common.keys import Keys\n",
    "from selenium.webdriver import ChromeOptions\n",
    "from selenium.webdriver.support import expected_conditions as EC"
   ]
  },
  {
   "cell_type": "code",
   "execution_count": null,
   "metadata": {},
   "outputs": [
    {
     "name": "stdout",
     "output_type": "stream",
     "text": [
      "No more 'Load More' button found or an error occurred. Stopping loop.\n",
      "{TimeoutException()}\n",
      "Data successfully saved to solana_historical_data.csv\n",
      "Data successfully saved to solana_historical_data.csv\n"
     ]
    }
   ],
   "source": [
    "options=ChromeOptions()\n",
    "options.headless= False\n",
    "driver = webdriver.Chrome(options=options)\n",
    "name_of_coin=input(\"Please Enter the Name of COIN IN LOWERCASE: \")\n",
    "url = f\"https://coinmarketcap.com/currencies/{name_of_coin}/historical-data/\"\n",
    "driver.get(url)\n",
    "WebDriverWait(driver, 10).until(EC.presence_of_element_located((By.TAG_NAME, \"table\")))\n",
    "\n",
    "currancy_details=[]\n",
    "\n",
    "# Extract data form historical table\n",
    "def extract_data():\n",
    "    soup=BeautifulSoup(driver.page_source,'lxml')\n",
    "    table=soup.find(\"table\")\n",
    "    if table:\n",
    "        tbody = table.find('tbody')\n",
    "        rows = tbody.find_all('tr')\n",
    "        \n",
    "        for row in rows:\n",
    "            cols = row.find_all('td')\n",
    "            cols = [ele.text.strip() for ele in cols]\n",
    "            currancy_details.append({\n",
    "                        \"Date\":cols[0], \n",
    "                        \"Open($)\":cols[1], \n",
    "                        \"High($)\":cols[2],  \n",
    "                        \"Low($)\":cols[3], \n",
    "                        \"Close($)\":cols[4],  \n",
    "                        \"Volume($)\":cols[5], \n",
    "                        \"Market Cap($)\":cols[6]  \n",
    "                    })\n",
    "def save_to_csv():\n",
    "    if not currancy_details:\n",
    "        print(\"No data available to save.\")\n",
    "        return\n",
    "    \n",
    "    csv_filename = f\"{name_of_coin}_historical_data.csv\"\n",
    "    keys = [\"Date\", \"Open($)\", \"High($)\", \"Low($)\", \"Close($)\", \"Volume($)\", \"Market Cap($)\"]\n",
    "\n",
    "    with open(csv_filename, mode=\"w\", newline=\"\", encoding=\"utf-8\") as file:\n",
    "        writer = csv.DictWriter(file, fieldnames=keys)\n",
    "        writer.writeheader()  \n",
    "        writer.writerows(currancy_details)\n",
    "\n",
    "    print(f\"Data successfully saved to {csv_filename}\")\n",
    "# click on load more to have the historical data for the coin \n",
    "def press_load_more():\n",
    "    while True:\n",
    "        try:\n",
    "            load_more = WebDriverWait(driver, 10).until(\n",
    "                EC.element_to_be_clickable((By.XPATH, \"//button[contains(text(), 'Load More')]\"))\n",
    "            )\n",
    "            load_more.click()\n",
    "            time.sleep(2)  \n",
    "            extract_data()  \n",
    "        except Exception as e:\n",
    "            print(\"No more 'Load More' button found or an error occurred. Stopping loop.\")\n",
    "            print({e})\n",
    "            break\n",
    "    save_to_csv()\n",
    "\n",
    "extract_data()\n",
    "press_load_more()\n",
    "save_to_csv()\n",
    "driver.quit()\n",
    "\n"
   ]
  },
  {
   "cell_type": "code",
   "execution_count": 15,
   "metadata": {},
   "outputs": [
    {
     "name": "stdout",
     "output_type": "stream",
     "text": [
      "Cleaned data successfully saved to solana_historical_data_cleaned.csv\n"
     ]
    }
   ],
   "source": [
    "def clean_data(csv_filename):\n",
    "    cleaned_data = []\n",
    "    \n",
    "    with open(csv_filename, mode=\"r\", encoding=\"utf-8\") as file:\n",
    "        reader = csv.reader(file)\n",
    "        headers = next(reader)\n",
    "        cleaned_data.append(headers) \n",
    "        for row in reader:\n",
    "            \n",
    "            row[0] = datetime.strptime(row[0], \"%b %d, %Y\").strftime(\"%Y-%m-%d\")\n",
    "\n",
    "           \n",
    "            for i in range(1, len(row)):\n",
    "                row[i] = row[i].replace(\"$\", \"\").replace(\",\", \"\")  \n",
    "                try:\n",
    "                    row[i] = float(row[i]) \n",
    "                except ValueError:\n",
    "                    pass  \n",
    "\n",
    "            cleaned_data.append(row)\n",
    "\n",
    "    return cleaned_data\n",
    "def save_cleaned(cleaned_data, output_filename):\n",
    "    \"\"\"\n",
    "    Saves cleaned data to a CSV file.\n",
    "    \"\"\"\n",
    "    if not cleaned_data:\n",
    "        print(\"No data available to save.\")\n",
    "        return\n",
    "    \n",
    "    with open(output_filename, mode=\"w\", newline=\"\", encoding=\"utf-8\") as file:\n",
    "        writer = csv.writer(file)\n",
    "        writer.writerows(cleaned_data)\n",
    "\n",
    "    print(f\"Cleaned data successfully saved to {output_filename}\")\n",
    "csv_filename = f\"{name_of_coin}_historical_data.csv\"\n",
    "cleaned_data = clean_data(csv_filename)\n",
    "output_filename = f\"{name_of_coin}_historical_data_cleaned.csv\"\n",
    "save_cleaned(cleaned_data, output_filename)"
   ]
  },
  {
   "cell_type": "code",
   "execution_count": 17,
   "metadata": {},
   "outputs": [
    {
     "name": "stdout",
     "output_type": "stream",
     "text": [
      "Top 10 coins data saved to top_10_coins.csv\n"
     ]
    }
   ],
   "source": [
    "options=ChromeOptions()\n",
    "options.headless= False\n",
    "driver_2 = webdriver.Chrome(options=options)\n",
    "url_2=\"https://coinmarketcap.com/\"\n",
    "driver_2.get(url_2)\n",
    "WebDriverWait(driver_2, 10).until(EC.presence_of_element_located((By.TAG_NAME, \"table\")))\n",
    "top_10=[]\n",
    "names=[]\n",
    "# Extract data from top coins table\n",
    "def top_10_coins():\n",
    "    soup=BeautifulSoup(driver_2.page_source,'lxml')\n",
    "    table_topCoin=soup.find(\"table\")\n",
    "    if table_topCoin:\n",
    "            tbody = table_topCoin.find('tbody')\n",
    "            rows = tbody.find_all('tr')\n",
    "            \n",
    "            for row in rows[:10]:\n",
    "                cols = row.find_all('td')\n",
    "                cols[2]=cols[2].find('p')\n",
    "                cols = [ele.text.strip().lower() for ele in cols]\n",
    "                top_10.append(cols[2:10])\n",
    "                names.append(cols[2])\n",
    "    csv_filename = \"top_10_coins.csv\"\n",
    "    with open(csv_filename, mode=\"w\", newline=\"\", encoding=\"utf-8\") as file:\n",
    "        writer = csv.writer(file)\n",
    "        writer.writerow([\"Name\", \"Price\", \"1h %\", \"24h %\", \"7d %\", \"Market Cap\", \"Volume(24h)\", \"Circulating Supply\"])\n",
    "        \n",
    "        writer.writerows(top_10)\n",
    "\n",
    "    print(f\"Top 10 coins data saved to {csv_filename}\")\n",
    "\n",
    "    return csv_filename ,names\n",
    "                \n",
    "top_10_coins()\n",
    "\n",
    "driver_2.quit()"
   ]
  }
 ],
 "metadata": {
  "kernelspec": {
   "display_name": "Python 3",
   "language": "python",
   "name": "python3"
  },
  "language_info": {
   "codemirror_mode": {
    "name": "ipython",
    "version": 3
   },
   "file_extension": ".py",
   "mimetype": "text/x-python",
   "name": "python",
   "nbconvert_exporter": "python",
   "pygments_lexer": "ipython3",
   "version": "3.12.5"
  }
 },
 "nbformat": 4,
 "nbformat_minor": 2
}
